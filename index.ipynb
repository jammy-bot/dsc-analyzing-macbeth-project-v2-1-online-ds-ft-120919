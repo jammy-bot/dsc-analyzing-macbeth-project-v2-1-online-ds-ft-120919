{
 "cells": [
  {
   "cell_type": "markdown",
   "metadata": {},
   "source": [
    "# Project: Analyzing Macbeth\n",
    "\n",
    "## Introduction\n",
    "Now we're going to do some rudimentary analysis of Shakespeare's classic play: Macbeth! You will get practice working with lists and dictionaries, conditionals, visualizing data, and thinking analytically about data.\n",
    "\n",
    "## Objectives\n",
    "You will be able to:\n",
    "* Apply string methods to make changes to a string\n",
    "* Use a `for` loop to iterate over a collection\n",
    "* Assign values in a dictionary\n",
    "\n",
    "## Getting the Data\n",
    "Here we start by importing a Python package called `requests`. We'll use it to pull the transcript of Macbeth from the [Project Gutenberg](https://www.gutenberg.org/) website. We'll also preview a few details about what is now stored in the variable `macbeth`. As you can see, it's a string with 120,253 characters - the first 500 of which are printed below. "
   ]
  },
  {
   "cell_type": "code",
   "execution_count": 1,
   "metadata": {},
   "outputs": [
    {
     "name": "stdout",
     "output_type": "stream",
     "text": [
      "<class 'str'>\n",
      "120253\n",
      "﻿\r\n",
      "\r\n",
      "***The Project Gutenberg's Etext of Shakespeare's First Folio***\r\n",
      "********************The Tragedie of Macbeth*********************\r\n",
      "\r\n",
      "\r\n",
      "\r\n",
      "*******************************************************************\r\n",
      "THIS EBOOK WAS ONE OF PROJECT GUTENBERG'S EARLY FILES PRODUCED AT A\r\n",
      "TIME WHEN PROOFING METHODS AND TOOLS WERE NOT WELL DEVELOPED. THERE\r\n",
      "IS AN IMPROVED EDITION OF THIS TITLE WHICH MAY BE VIEWED AS EBOOK\r\n",
      "(#1533) at https://www.gutenberg.org/ebooks/1533\r\n",
      "*********************************\n"
     ]
    }
   ],
   "source": [
    "import requests\n",
    "macbeth = requests.get('http://www.gutenberg.org/cache/epub/2264/pg2264.txt').text\n",
    "\n",
    "print(type(macbeth))\n",
    "print(len(macbeth))\n",
    "print(macbeth[:500])"
   ]
  },
  {
   "cell_type": "markdown",
   "metadata": {},
   "source": [
    "## Your Task\n",
    "\n",
    "Your task is to create a bar graph of the 25 most common words in Shakespeare's Macbeth.  \n",
    "\n",
    "\n",
    "A common Python programming pattern to count objects, produce histograms, or update statistics is to make calls to a dictionary as you iterate through a list. For example, given a list of words, you can create a dictionary to store counts and then iterate through the list of words, checking how many times each word has appeared using your dictionary, and updating the dictionary count now that you've seen that word again. The `.get()` dictionary method is very useful in doing this. Read the docstring for the `.get()` method and use it along with the pseudocode below to create a bar graph of the 25 most common words from the transcript of Macbeth which has been loaded into the variable 'macbeth'. Be sure to include a title and appropriate labels for your graph.\n",
    "\n",
    "To get the 25 *most common* words, you will have to sort your counts. If you are not super sure how to do this, checkout out the [Sorting HOW TO](https://docs.python.org/3/howto/sorting.html) Python documentation. Part of being a data scientist is figuring out how to do tasks that you may not have done before. Remember, in these situations, Google is your friend!"
   ]
  },
  {
   "cell_type": "code",
   "execution_count": 2,
   "metadata": {},
   "outputs": [
    {
     "name": "stdout",
     "output_type": "stream",
     "text": [
      "20389\n"
     ]
    },
    {
     "data": {
      "text/plain": [
       "['of', \"Shakespeare's\", 'First', 'Folio***', '********************The']"
      ]
     },
     "execution_count": 2,
     "metadata": {},
     "output_type": "execute_result"
    }
   ],
   "source": [
    "import numpy as np\n",
    "import matplotlib.pyplot as plt\n",
    "%matplotlib inline\n",
    "\n",
    "## Pseudo-code outline\n",
    "\n",
    "# split all words into a list\n",
    "macbeth_words = macbeth.split()\n",
    "\n",
    "print(len(macbeth_words))\n",
    "\n",
    "# sample a few words from the split list\n",
    "macbeth_words[5:10]"
   ]
  },
  {
   "cell_type": "code",
   "execution_count": 3,
   "metadata": {},
   "outputs": [],
   "source": [
    "## Create an empty dictionary for unique - word/ count pairs\n",
    "word_count = {}\n",
    "\n",
    "## Iterate through unique words in the text of Macbeth\n",
    "for word in macbeth_words:\n",
    "    if word in word_count:\n",
    "        # Add 1 to current count for each word found in loop\n",
    "        word_count[word] += 1\n",
    "    else:\n",
    "        # otherwise word_count = 1\n",
    "        word_count[word] = 1\n",
    "\n",
    "# convert `word_count` into list of tuples\n",
    "count_list = word_count.items()\n",
    "\n",
    "## Sort words by counts in descending order (tuple by position 1)\n",
    "sorted_count = sorted(count_list, key = lambda w: w[1], reverse = True)[:25]\n",
    "#sorted(list(word_count.items()), key = lambda x: x[1], reverse = True)"
   ]
  },
  {
   "cell_type": "code",
   "execution_count": 4,
   "metadata": {},
   "outputs": [
    {
     "data": {
      "text/plain": [
       "[('the', 620), ('and', 427), ('of', 395), ('to', 367), ('I', 326)]"
      ]
     },
     "execution_count": 4,
     "metadata": {},
     "output_type": "execute_result"
    }
   ],
   "source": [
    "# view the top 5 from the list\n",
    "sorted_count[:5]"
   ]
  },
  {
   "cell_type": "code",
   "execution_count": 5,
   "metadata": {},
   "outputs": [
    {
     "data": {
      "image/png": "[encoded data removed]",
      "text/plain": [
       "<Figure size 792x792 with 1 Axes>"
      ]
     },
     "metadata": {
      "needs_background": "light"
     },
     "output_type": "display_data"
    }
   ],
   "source": [
    "\n",
    "# Create Bar Graph\n",
    "## Create a new figure object\n",
    "plt.figure(figsize=(11 ,11))\n",
    "\n",
    "# Plot vertical bars of fixed width by passing x and y values to .bar() function\n",
    "## Using values in `sorted_count` list for y\n",
    "y = [w[1] for w in sorted_count] #[list(map(lambda w: w[1], sorted_count))]\n",
    "\n",
    "## Using the number of items in `sorted_count` (`y`)\n",
    "x = np.arange(len(y))\n",
    "plt.bar(x, y)\n",
    "\n",
    "#Include descriptive titles and labels\n",
    "plt.xlabel('X Values - Words')\n",
    "plt.ylabel('Y Values - Occurrences')\n",
    "plt.xticks(x, [w[0] for w in sorted_count], rotation=75)\n",
    "\n",
    "\n",
    "\n",
    "           \n",
    "# Give a title to the bar graph\n",
    "plt.title(\"Word Mac's: Most Frequent Words in MacBeth\")\n",
    "\n",
    "           \n",
    "# Output the final plot\n",
    "plt.show()\n"
   ]
  },
  {
   "cell_type": "markdown",
   "metadata": {},
   "source": [
    "## Level Up (Optional)\n",
    "This project should take you about an hour and a half to complete. If you're done much more quickly than that and are not behind in the course, feel free to deepen your knowledge by completing any or all of the following tasks until you run out of time:\n",
    "* Create a list of top characters by mentions of their names \n",
    "* Split the text by which character is talking\n",
    "* Create subgraphs of the most common words by character\n",
    "* Reduce the string to the text of the play itself. (Remove any initial notes, forward, introduction, appendix, etc.)\n",
    "* Come up with some other fun analyses of the text!\n",
    "\n",
    "## Summary\n",
    "Congratulations! You've got some extra practice combining various data types into useful programming patterns and done an initial analysis of a classic text!"
   ]
  },
  {
   "cell_type": "code",
   "execution_count": 6,
   "metadata": {},
   "outputs": [],
   "source": [
    "###PARKING LOT\n",
    "\n",
    "        # Split the transcript into words\n",
    "        # macbeth_sans_punct = list(macbeth.replace(\"*\", \"\").replace(\". \", \" \").replace(\"; \", \" \").replace(\", \", \" \").replace(\"! \", \" \").replace(\"--\", \" \").replace(\"? \", \" \").replace(\": \", \" \").split())\n",
    "\n",
    "        ## Split the transcript into words, excluding punctuation\n",
    "        ## macbeth_sans_punct = list(macbeth.replace(\". \", \" \").replace(\", \", \" \").replace(\": \", \" \").replace(\"; \", \" \").replace(\"? \", \" \").replace(\"! \", \" \").replace(\"--\", \" \").replace(\"*\", \"\").replace(\"&\", \"\").replace(\"#\", \"\").replace('\"', \"\").replace(\"$\", \"\").replace(\"%\", \"\").replace(\"@\", \"\").replace(\"(\", \"\").replace(\")\", \"\").replace(\"[\", \"\").replace(\"]\", \"\").replace(\"~\", \"\").replace(\",\", \"\").split())\n",
    "        ## non_unique_words = sorted(list(set(macbeth_sans_punct)))\n",
    "\n",
    "        ## non_unique_words[-25:]\n",
    "        \n",
    "        # Create a dictionary\n",
    "        # macbeth_dict = {}\n",
    "\n",
    "\n",
    "        # Iterate through the text of Macbeth\n",
    "        # unique_macbeth = list(set(macbeth_sans_punct))\n",
    "\n",
    "        #for word in macbeth_sans_punct:\n",
    "        # Update word counts\n",
    "        #    macbeth_dict.update(word:0)\n",
    "        #Sort words by counts in descending order\n",
    "        #Create Bar Graph\n",
    "        #Include descriptive titles and labels\n",
    "        \n",
    "        # check whether the word is in the `word_count` dictionary\n",
    "        #    if word in word_count:\n",
    "        # if present, add 1 to current count for each word using `.get`\n",
    "        #        word_count[word] += 1 #= word_count.get(word, 0) + 1\n",
    "        # word_count[word] += 1\n",
    "        #\telse:\n",
    "        #\t\t# otherwise, enter a count of 1 for the word\n",
    "        #\t\tword_count[word] = 1\n",
    "\n",
    "        # print(unique_macbeth)\n",
    "        # print(macbeth_dict)\n",
    "        ## to eliminate front matter < position 1981\n",
    "        # print(macbeth_sans_punct[1970:1980])\n",
    "        ## to check end of text\n",
    "        # print(macbeth_sans_punct[-20:])\n"
   ]
  },
  {
   "cell_type": "code",
   "execution_count": null,
   "metadata": {},
   "outputs": [],
   "source": []
  }
 ],
 "metadata": {
  "kernelspec": {
   "display_name": "Python 3",
   "language": "python",
   "name": "python3"
  },
  "language_info": {
   "codemirror_mode": {
    "name": "ipython",
    "version": 3
   },
   "file_extension": ".py",
   "mimetype": "text/x-python",
   "name": "python",
   "nbconvert_exporter": "python",
   "pygments_lexer": "ipython3",
   "version": "3.6.9"
  }
 },
 "nbformat": 4,
 "nbformat_minor": 2
}
